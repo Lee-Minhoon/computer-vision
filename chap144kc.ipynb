{
 "cells": [
  {
   "cell_type": "markdown",
   "metadata": {},
   "source": [
    "# 1.4.4 Smoothing Images"
   ]
  },
  {
   "cell_type": "markdown",
   "metadata": {},
   "source": [
    "## Kernel Convolution"
   ]
  },
  {
   "cell_type": "code",
   "execution_count": 15,
   "metadata": {},
   "outputs": [],
   "source": [
    "import cv2\n",
    "import numpy as np\n",
    "import os\n",
    "from matplotlib import pyplot as plt"
   ]
  },
  {
   "cell_type": "code",
   "execution_count": 16,
   "metadata": {},
   "outputs": [],
   "source": [
    "l=1\n",
    "kernel = np.array([[0,-1,0],[-1,4,-1],[0,-1,0]],np.float32)"
   ]
  },
  {
   "cell_type": "code",
   "execution_count": 17,
   "metadata": {},
   "outputs": [
    {
     "data": {
      "text/plain": [
       "array([[ 0., -1.,  0.],\n",
       "       [-1.,  4., -1.],\n",
       "       [ 0., -1.,  0.]], dtype=float32)"
      ]
     },
     "execution_count": 17,
     "metadata": {},
     "output_type": "execute_result"
    }
   ],
   "source": [
    "kernel"
   ]
  },
  {
   "cell_type": "code",
   "execution_count": 18,
   "metadata": {},
   "outputs": [],
   "source": [
    "img = np.random.randint(10, size=(12,12))\n",
    "#img = np.ones((10,10),np.float32)"
   ]
  },
  {
   "cell_type": "code",
   "execution_count": 19,
   "metadata": {},
   "outputs": [
    {
     "data": {
      "text/plain": [
       "array([[6, 3, 3, 1, 5, 0, 5, 5, 9, 8, 5, 9],\n",
       "       [8, 8, 2, 3, 9, 0, 2, 5, 8, 8, 0, 1],\n",
       "       [2, 6, 0, 2, 4, 0, 7, 1, 2, 8, 5, 4],\n",
       "       [9, 7, 8, 9, 1, 0, 0, 8, 9, 8, 0, 0],\n",
       "       [1, 8, 2, 1, 1, 6, 3, 9, 1, 5, 5, 5],\n",
       "       [3, 2, 7, 2, 3, 0, 5, 6, 1, 5, 0, 5],\n",
       "       [6, 6, 8, 2, 0, 8, 9, 9, 3, 5, 8, 0],\n",
       "       [9, 7, 1, 3, 7, 5, 1, 2, 4, 9, 5, 6],\n",
       "       [3, 7, 9, 9, 2, 2, 0, 2, 9, 3, 0, 7],\n",
       "       [9, 3, 0, 6, 4, 7, 1, 5, 7, 9, 7, 2],\n",
       "       [8, 3, 7, 1, 7, 0, 0, 7, 4, 1, 9, 0],\n",
       "       [6, 3, 8, 3, 3, 8, 6, 6, 0, 3, 4, 4]])"
      ]
     },
     "execution_count": 19,
     "metadata": {},
     "output_type": "execute_result"
    }
   ],
   "source": [
    "img"
   ]
  },
  {
   "cell_type": "code",
   "execution_count": 20,
   "metadata": {},
   "outputs": [],
   "source": [
    "h,w=img.shape"
   ]
  },
  {
   "cell_type": "code",
   "execution_count": 21,
   "metadata": {},
   "outputs": [
    {
     "name": "stdout",
     "output_type": "stream",
     "text": [
      "12 12\n"
     ]
    }
   ],
   "source": [
    "print(h,w)"
   ]
  },
  {
   "cell_type": "code",
   "execution_count": 22,
   "metadata": {},
   "outputs": [],
   "source": [
    "#[*range(-2,3)]"
   ]
  },
  {
   "cell_type": "code",
   "execution_count": 23,
   "metadata": {},
   "outputs": [],
   "source": [
    "dst = np.zeros((h,w),np.int)"
   ]
  },
  {
   "cell_type": "code",
   "execution_count": 24,
   "metadata": {},
   "outputs": [],
   "source": [
    "for i in range(l,h-l):\n",
    "    for j in range(l,w-l):\n",
    "        t=0\n",
    "        for p in range(-l,l+1):\n",
    "            for q in range(-l,l+1):\n",
    "                t += kernel[p+l,q+l]*img[i+p,j+q]\n",
    "        dst[i,j]=t        "
   ]
  },
  {
   "cell_type": "code",
   "execution_count": 25,
   "metadata": {},
   "outputs": [
    {
     "data": {
      "text/plain": [
       "array([[6, 3, 3, 1, 5, 0, 5, 5, 9, 8, 5, 9],\n",
       "       [8, 8, 2, 3, 9, 0, 2, 5, 8, 8, 0, 1],\n",
       "       [2, 6, 0, 2, 4, 0, 7, 1, 2, 8, 5, 4],\n",
       "       [9, 7, 8, 9, 1, 0, 0, 8, 9, 8, 0, 0],\n",
       "       [1, 8, 2, 1, 1, 6, 3, 9, 1, 5, 5, 5],\n",
       "       [3, 2, 7, 2, 3, 0, 5, 6, 1, 5, 0, 5],\n",
       "       [6, 6, 8, 2, 0, 8, 9, 9, 3, 5, 8, 0],\n",
       "       [9, 7, 1, 3, 7, 5, 1, 2, 4, 9, 5, 6],\n",
       "       [3, 7, 9, 9, 2, 2, 0, 2, 9, 3, 0, 7],\n",
       "       [9, 3, 0, 6, 4, 7, 1, 5, 7, 9, 7, 2],\n",
       "       [8, 3, 7, 1, 7, 0, 0, 7, 4, 1, 9, 0],\n",
       "       [6, 3, 8, 3, 3, 8, 6, 6, 0, 3, 4, 4]])"
      ]
     },
     "execution_count": 25,
     "metadata": {},
     "output_type": "execute_result"
    }
   ],
   "source": [
    "img"
   ]
  },
  {
   "cell_type": "code",
   "execution_count": 26,
   "metadata": {},
   "outputs": [
    {
     "data": {
      "text/plain": [
       "array([[  0,   0,   0,   0,   0,   0,   0,   0,   0,   0,   0,   0],\n",
       "       [  0,  13,  -6,  -2,  24, -11,  -9,   4,   8,   8, -19,   0],\n",
       "       [  0,   7, -18,  -8,   4, -11,  25, -18, -18,   9,   8,   0],\n",
       "       [  0,  -3,  14,  24, -10,  -7, -18,  13,  17,  10, -18,   0],\n",
       "       [  0,  20, -16, -10,  -7,  20,  -8,  18, -20,   1,  10,   0],\n",
       "       [  0, -16,  14,  -5,   9, -22,   2,   0, -11,   9, -23,   0],\n",
       "       [  0,   1,  16,  -5, -20,  18,  13,  16,  -7,  -5,  22,   0],\n",
       "       [  0,   5, -23,  -7,  18,   2, -12,  -8,  -7,  19,  -3,   0],\n",
       "       [  0,   6,  19,  16, -14,  -6,  -6,  -8,  20, -15, -22,   0],\n",
       "       [  0,  -7, -25,  10,  -6,  21,  -8,   3,   1,  18,   8,   0],\n",
       "       [  0,  -9,  16, -19,  20, -22, -14,  13,   1, -21,  24,   0],\n",
       "       [  0,   0,   0,   0,   0,   0,   0,   0,   0,   0,   0,   0]])"
      ]
     },
     "execution_count": 26,
     "metadata": {},
     "output_type": "execute_result"
    }
   ],
   "source": [
    "dst"
   ]
  },
  {
   "cell_type": "code",
   "execution_count": 31,
   "metadata": {},
   "outputs": [],
   "source": [
    "resource_path = os.getcwd() + \"/resource/\""
   ]
  },
  {
   "cell_type": "code",
   "execution_count": 32,
   "metadata": {},
   "outputs": [],
   "source": [
    "img = cv2.imread(resource_path + \"lena.png\", 0)"
   ]
  },
  {
   "cell_type": "code",
   "execution_count": 33,
   "metadata": {},
   "outputs": [],
   "source": [
    "h,w=img.shape"
   ]
  },
  {
   "cell_type": "code",
   "execution_count": 34,
   "metadata": {},
   "outputs": [],
   "source": [
    "dst = np.zeros((h-2*l,w-2*l),np.uint8)"
   ]
  },
  {
   "cell_type": "code",
   "execution_count": 35,
   "metadata": {},
   "outputs": [],
   "source": [
    "for i in range(l,h-l):\n",
    "    for j in range(l,w-l):\n",
    "        t=0\n",
    "        for p in range(-l,l+1):\n",
    "            for q in range(-l,l+1):\n",
    "                t += kernel[p+l,q+l]*img[i+p,j+q]\n",
    "        dst[i-l,j-l]=t "
   ]
  },
  {
   "cell_type": "code",
   "execution_count": 36,
   "metadata": {},
   "outputs": [],
   "source": [
    "cv2.imshow('img',img)\n",
    "cv2.imshow('dst',dst)\n",
    "cv2.waitKey(0)\n",
    "cv2.destroyAllWindows()"
   ]
  },
  {
   "cell_type": "code",
   "execution_count": null,
   "metadata": {},
   "outputs": [],
   "source": []
  }
 ],
 "metadata": {
  "kernelspec": {
   "display_name": "Python 3",
   "language": "python",
   "name": "python3"
  },
  "language_info": {
   "codemirror_mode": {
    "name": "ipython",
    "version": 3
   },
   "file_extension": ".py",
   "mimetype": "text/x-python",
   "name": "python",
   "nbconvert_exporter": "python",
   "pygments_lexer": "ipython3",
   "version": "3.8.5"
  }
 },
 "nbformat": 4,
 "nbformat_minor": 4
}
