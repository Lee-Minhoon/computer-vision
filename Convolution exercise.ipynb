{
 "cells": [
  {
   "cell_type": "code",
   "execution_count": 4,
   "metadata": {},
   "outputs": [],
   "source": [
    "import cv2\n",
    "import numpy as np\n",
    "import os"
   ]
  },
  {
   "cell_type": "code",
   "execution_count": 5,
   "metadata": {},
   "outputs": [],
   "source": [
    "resource_path = os.getcwd() + '/resource/'\n",
    "img = cv2.imread(resource_path + 'dog.jpg',0)\n",
    "cv2.imshow('image',img)\n",
    "k = cv2.waitKey(0)\n",
    "cv2.destroyAllWindows()"
   ]
  },
  {
   "cell_type": "code",
   "execution_count": 20,
   "metadata": {},
   "outputs": [
    {
     "name": "stdout",
     "output_type": "stream",
     "text": [
      "[[ 32  34  35 ...  55  54  52]\n",
      " [ 33  34  34 ...  52  53  52]\n",
      " [ 33  34  33 ...  51  53  54]\n",
      " ...\n",
      " [113 112 114 ...  91  92  95]\n",
      " [111 102 112 ...  96 109 109]\n",
      " [113 104 106 ...  90 101 104]]\n"
     ]
    }
   ],
   "source": [
    "print(img)"
   ]
  },
  {
   "cell_type": "code",
   "execution_count": 6,
   "metadata": {},
   "outputs": [],
   "source": [
    "kernel = np.zeros((3,3),dtype=np.uint8)"
   ]
  },
  {
   "cell_type": "code",
   "execution_count": 7,
   "metadata": {},
   "outputs": [],
   "source": [
    "img2 = img[:]"
   ]
  },
  {
   "cell_type": "code",
   "execution_count": 26,
   "metadata": {},
   "outputs": [
    {
     "name": "stdout",
     "output_type": "stream",
     "text": [
      "[[0 0 0]\n",
      " [0 0 0]\n",
      " [0 0 0]]\n",
      "[[ 32  34  35 ...  55  54  52]\n",
      " [ 33  34  34 ...  52  53  52]\n",
      " [ 33  34  33 ...  51  53  54]\n",
      " ...\n",
      " [113 112 114 ...  91  92  95]\n",
      " [111 102 112 ...  96 109 109]\n",
      " [113 104 106 ...  90 101 104]]\n",
      "[[ 32  34  35 ...  55  54  52]\n",
      " [ 33  34  34 ...  52  53  52]\n",
      " [ 33  34  33 ...  51  53  54]\n",
      " ...\n",
      " [113 112 114 ...  91  92  95]\n",
      " [111 102 112 ...  96 109 109]\n",
      " [113 104 106 ...  90 101 104]]\n",
      "[[  0  34  35 ...  55  54  52]\n",
      " [ 33  34  34 ...  52  53  52]\n",
      " [ 33  34  33 ...  51  53  54]\n",
      " ...\n",
      " [113 112 114 ...  91  92  95]\n",
      " [111 102 112 ...  96 109 109]\n",
      " [113 104 106 ...  90 101 104]]\n"
     ]
    }
   ],
   "source": [
    "print(kernel)\n",
    "print(img)\n",
    "img2[0,0] = 0\n",
    "print(img)\n",
    "print(img2)"
   ]
  },
  {
   "cell_type": "code",
   "execution_count": 7,
   "metadata": {},
   "outputs": [],
   "source": [
    "## 중심으로 모든 값을 곱해서 더한게 합성곱이다."
   ]
  },
  {
   "cell_type": "code",
   "execution_count": 27,
   "metadata": {},
   "outputs": [
    {
     "name": "stdout",
     "output_type": "stream",
     "text": [
      "[[ 32  34  35 ...  55  54  52]\n",
      " [ 33  34  34 ...  52  53  52]\n",
      " [ 33  34  33 ...  51  53  54]\n",
      " ...\n",
      " [113 112 114 ...  91  92  95]\n",
      " [111 102 112 ...  96 109 109]\n",
      " [113 104 106 ...  90 101 104]]\n"
     ]
    }
   ],
   "source": [
    "print(img)"
   ]
  },
  {
   "cell_type": "code",
   "execution_count": 8,
   "metadata": {},
   "outputs": [],
   "source": [
    "w,h = img.shape\n",
    "kw,kh = kernel.shape"
   ]
  },
  {
   "cell_type": "code",
   "execution_count": 9,
   "metadata": {},
   "outputs": [
    {
     "name": "stdout",
     "output_type": "stream",
     "text": [
      "9\n"
     ]
    }
   ],
   "source": [
    "print( kw * kh)"
   ]
  },
  {
   "cell_type": "code",
   "execution_count": 10,
   "metadata": {},
   "outputs": [],
   "source": [
    "kernel = np.zeros((3,3), dtype=np.int8)\n",
    "for i in range(kw):\n",
    "    for j in range(kh):\n",
    "        kernel[i,j] = 1\n",
    "        \n",
    "kernel[1,1] = 4"
   ]
  },
  {
   "cell_type": "code",
   "execution_count": 31,
   "metadata": {},
   "outputs": [
    {
     "name": "stdout",
     "output_type": "stream",
     "text": [
      "[[1 1 1]\n",
      " [1 4 1]\n",
      " [1 1 1]]\n"
     ]
    }
   ],
   "source": [
    "print(kernel)"
   ]
  },
  {
   "cell_type": "code",
   "execution_count": 17,
   "metadata": {},
   "outputs": [],
   "source": [
    "for i in range(w-1):\n",
    "    for j in range(h-1):\n",
    "        if not(i == 0 or j == 0 or i == w or j == h):\n",
    "            sum = 0\n",
    "            for z in range(kw):\n",
    "                for k in range(kh):\n",
    "                    sum += img[i-1+z, j-1+k] * kernel[z,k]\n",
    "            temp = int(sum / (kw * kh))\n",
    "            if temp >= 255:\n",
    "                img2[i,j] = 255\n",
    "            else:\n",
    "                img2[i, j] = temp"
   ]
  },
  {
   "cell_type": "code",
   "execution_count": 18,
   "metadata": {
    "scrolled": true
   },
   "outputs": [
    {
     "name": "stdout",
     "output_type": "stream",
     "text": [
      "[[165 165 165 ...  52  52  52]\n",
      " [165 255 255 ... 255 225  52]\n",
      " [163 255 255 ... 255 255  52]\n",
      " ...\n",
      " [ 93 255 255 ... 255 255 109]\n",
      " [ 94 241 255 ... 255 255 109]\n",
      " [ 95  96  98 ... 110 109 109]]\n"
     ]
    }
   ],
   "source": [
    "print(img2)"
   ]
  },
  {
   "cell_type": "code",
   "execution_count": 39,
   "metadata": {},
   "outputs": [],
   "source": [
    "cv2.imshow('image',img)\n",
    "cv2.imshow('image2',img2)\n",
    "k = cv2.waitKey(0)\n",
    "cv2.destroyAllWindows()"
   ]
  },
  {
   "cell_type": "code",
   "execution_count": 16,
   "metadata": {
    "scrolled": true
   },
   "outputs": [
    {
     "name": "stdout",
     "output_type": "stream",
     "text": [
      "404\n",
      "1 1\n"
     ]
    }
   ],
   "source": [
    "for i in range(2):\n",
    "    for j in range(2):\n",
    "        if not(i == 0 or j == 0 or i == w or j == h):\n",
    "            print(int(img[i-1,j-1] * kernel[0,0] + img[i-1,j] * kernel[0,1] + img[i-1,j+1] * kernel[0,2] +\n",
    "            img[i,j-1] * kernel[1,0] + img[i,j] * kernel[1,1] + img[i,j+1] * kernel[1,2] +\n",
    "            img[i+1,j-1] * kernel[2,0] + img[i+1,j] * kernel[2,1] + img[i+1,j+1] * kernel[2,2]))\n",
    "            print(i,j)\n"
   ]
  },
  {
   "cell_type": "code",
   "execution_count": 17,
   "metadata": {},
   "outputs": [
    {
     "name": "stdout",
     "output_type": "stream",
     "text": [
      "33\n"
     ]
    }
   ],
   "source": [
    "print(img[2,2] * kernel[2,2])"
   ]
  },
  {
   "cell_type": "code",
   "execution_count": null,
   "metadata": {},
   "outputs": [],
   "source": []
  },
  {
   "cell_type": "code",
   "execution_count": null,
   "metadata": {},
   "outputs": [],
   "source": []
  }
 ],
 "metadata": {
  "kernelspec": {
   "display_name": "Python 3",
   "language": "python",
   "name": "python3"
  },
  "language_info": {
   "codemirror_mode": {
    "name": "ipython",
    "version": 3
   },
   "file_extension": ".py",
   "mimetype": "text/x-python",
   "name": "python",
   "nbconvert_exporter": "python",
   "pygments_lexer": "ipython3",
   "version": "3.8.5"
  }
 },
 "nbformat": 4,
 "nbformat_minor": 4
}
