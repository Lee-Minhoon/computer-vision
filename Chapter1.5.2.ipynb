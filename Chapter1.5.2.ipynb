{
 "cells": [
  {
   "cell_type": "markdown",
   "metadata": {},
   "source": [
    "# 1.5.2 Harris Corner Detection"
   ]
  },
  {
   "cell_type": "markdown",
   "metadata": {},
   "source": [
    "## Harris Corner Detector in OpenCV"
   ]
  },
  {
   "cell_type": "code",
   "execution_count": 6,
   "metadata": {},
   "outputs": [],
   "source": [
    "import cv2\n",
    "import numpy as np\n",
    "import os\n",
    "from matplotlib import pyplot as plt"
   ]
  },
  {
   "cell_type": "code",
   "execution_count": 7,
   "metadata": {},
   "outputs": [],
   "source": [
    "resource_path = os.getcwd() + '/resource/'"
   ]
  },
  {
   "cell_type": "code",
   "execution_count": 8,
   "metadata": {},
   "outputs": [],
   "source": [
    "filename = resource_path + 'horse.bmp'\n",
    "img = cv2.imread(filename)\n",
    "gray = cv2.cvtColor(img,cv2.COLOR_BGR2GRAY)\n",
    "gray = np.float32(gray)\n",
    "dst = cv2.cornerHarris(gray,2,3,0.04)"
   ]
  },
  {
   "cell_type": "code",
   "execution_count": 9,
   "metadata": {},
   "outputs": [],
   "source": [
    "#result is dilated for marking the corners, not important\n",
    "dst = cv2.dilate(dst,None)"
   ]
  },
  {
   "cell_type": "code",
   "execution_count": 12,
   "metadata": {},
   "outputs": [],
   "source": [
    "# Threshold for an optimal value, it may vary depending on the image.\n",
    "img[dst>0.001*dst.max()]=[0,0,255]"
   ]
  },
  {
   "cell_type": "code",
   "execution_count": 13,
   "metadata": {},
   "outputs": [],
   "source": [
    "cv2.imshow('dst',img)\n",
    "if cv2.waitKey(0) & 0xff == 27:\n",
    "    cv2.destroyAllWindows()"
   ]
  },
  {
   "cell_type": "markdown",
   "metadata": {},
   "source": [
    "## with Trackbar"
   ]
  },
  {
   "cell_type": "code",
   "execution_count": 15,
   "metadata": {},
   "outputs": [],
   "source": [
    "def nothing(x):\n",
    "    pass"
   ]
  },
  {
   "cell_type": "code",
   "execution_count": 16,
   "metadata": {},
   "outputs": [],
   "source": [
    "cv2.namedWindow('image')\n",
    "cv2.createTrackbar('threshold', 'image', 10, 1000, nothing)\n",
    "while(1):\n",
    "    k = cv2.waitKey(1) & 0xFF\n",
    "    if k == 27:\n",
    "        break\n",
    "    threshold = cv2.getTrackbarPos('threshold', 'image')\n",
    "    if(threshold <= 1):\n",
    "        threshold = 1\n",
    "    img = cv2.imread(filename)\n",
    "    img[dst > 1. / threshold * dst.max()] = [0, 0, 255]\n",
    "    cv2.imshow('image',img)\n",
    "cv2.destroyAllWindows()"
   ]
  },
  {
   "cell_type": "markdown",
   "metadata": {},
   "source": [
    "## Corner with SubPixel Accuracy"
   ]
  },
  {
   "cell_type": "code",
   "execution_count": 55,
   "metadata": {},
   "outputs": [],
   "source": [
    "filename = resource_path + 'horse.bmp'\n",
    "img = cv2.imread(filename)\n",
    "gray = cv2.cvtColor(img,cv2.COLOR_BGR2GRAY)"
   ]
  },
  {
   "cell_type": "code",
   "execution_count": 56,
   "metadata": {},
   "outputs": [
    {
     "name": "stdout",
     "output_type": "stream",
     "text": [
      "1861669.76 (768, 1024)\n"
     ]
    }
   ],
   "source": [
    "# find Harris corners\n",
    "gray = np.float32(gray)\n",
    "dst = cv2.cornerHarris(gray,2,3,0.04)\n",
    "dst = cv2.dilate(dst,None)\n",
    "ret, dst = cv2.threshold(dst,0.01*dst.max(),255,0)\n",
    "dst = np.uint8(dst)\n",
    "print(ret, dst.shape)"
   ]
  },
  {
   "cell_type": "code",
   "execution_count": 57,
   "metadata": {},
   "outputs": [],
   "source": [
    "# find centroids\n",
    "ret, labels, stats, centroids = cv2.connectedComponentsWithStats(dst)"
   ]
  },
  {
   "cell_type": "code",
   "execution_count": 58,
   "metadata": {},
   "outputs": [],
   "source": [
    "# define the criteria to stop and refine the corners\n",
    "criteria = (cv2.TERM_CRITERIA_EPS + cv2.TERM_CRITERIA_MAX_ITER, 100, 0.001)\n",
    "corners = cv2.cornerSubPix(gray,np.float32(centroids),(5,5),(-1,-1),criteria)"
   ]
  },
  {
   "cell_type": "code",
   "execution_count": 59,
   "metadata": {},
   "outputs": [
    {
     "name": "stdout",
     "output_type": "stream",
     "text": [
      "[[ 511  383  511  383]\n",
      " [ 425  113  425  111]\n",
      " [ 454  111  451  109]\n",
      " [ 466  126  465  125]\n",
      " [ 440  128  438  126]\n",
      " [ 449  129  449  129]\n",
      " [ 434  131  433  133]\n",
      " [ 467  138  465  136]\n",
      " [ 430  139  428  138]\n",
      " [ 440  157  440  155]\n",
      " [ 488  159  485  156]\n",
      " [1006  158 1005  157]\n",
      " [1022  161 1021  161]\n",
      " [ 953  164  954  164]\n",
      " [ 494  166  490  165]\n",
      " [ 414  169  413  169]\n",
      " [ 836  172  837  172]\n",
      " [ 464  173  463  171]\n",
      " [ 418  175  418  175]\n",
      " [ 505  178  503  177]\n",
      " [ 922  176  920  173]\n",
      " [ 417  187  417  187]\n",
      " [ 500  187  501  186]\n",
      " [ 509  197  507  197]\n",
      " [ 418  205  418  205]\n",
      " [ 420  213  420  212]\n",
      " [ 524  212  522  212]\n",
      " [ 438  220  437  218]\n",
      " [ 212  217  212  217]\n",
      " [ 538  224  538  224]\n",
      " [ 461  228  459  227]\n",
      " [ 421  234  421  234]\n",
      " [ 540  235  541  235]\n",
      " [ 438  242  439  244]\n",
      " [ 749  241  749  241]\n",
      " [ 548  243  544  243]\n",
      " [ 424  246  423  246]\n",
      " [ 432  249  432  246]\n",
      " [ 763  248  762  247]\n",
      " [ 281  249  281  249]\n",
      " [ 715  250  715  248]\n",
      " [ 702  251  703  249]\n",
      " [ 744  251  744  250]\n",
      " [ 781  251  781  247]\n",
      " [ 879  258  877  256]\n",
      " [ 495  264  495  264]\n",
      " [ 332  267  330  266]\n",
      " [ 287  272  285  272]\n",
      " [ 936  295  933  293]\n",
      " [ 777  310  775  312]\n",
      " [ 121  326  120  325]\n",
      " [ 129  325  126  324]\n",
      " [ 427  329  427  329]\n",
      " [ 659  344  659  344]\n",
      " [ 426  347  427  348]\n",
      " [ 665  351  665  351]\n",
      " [ 719  354  716  355]\n",
      " [ 905  349  904  348]\n",
      " [ 427  354  427  354]\n",
      " [ 450  354  449  354]\n",
      " [ 732  355  733  353]\n",
      " [ 429  361  432  365]\n",
      " [ 579  361  579  360]\n",
      " [ 703  362  702  361]\n",
      " [ 871  363  870  361]\n",
      " [ 432  367  432  365]\n",
      " [ 712  367  712  367]\n",
      " [ 684  372  680  371]\n",
      " [ 662  377  661  375]\n",
      " [ 691  376  691  376]\n",
      " [ 615  379  614  377]\n",
      " [ 650  377  650  377]\n",
      " [ 553  380  551  379]\n",
      " [ 666  410  666  414]\n",
      " [ 500  384  498  385]\n",
      " [ 713  390  712  391]\n",
      " [ 693  388  689  386]\n",
      " [ 254  389  251  387]\n",
      " [ 445  392  446  392]\n",
      " [ 496  396  497  395]\n",
      " [ 719  400  719  400]\n",
      " [ 483  402  480  402]\n",
      " [ 491  405  491  405]\n",
      " [ 524  403  523  401]\n",
      " [ 681  406  679  406]\n",
      " [ 127  404  125  402]\n",
      " [ 470  410  468  410]\n",
      " [ 711  410  709  407]\n",
      " [ 658  412  658  412]\n",
      " [ 719  413  720  414]\n",
      " [ 375  414  372  414]\n",
      " [ 600  422  597  419]\n",
      " [ 483  421  481  423]\n",
      " [ 705  424  706  423]\n",
      " [ 569  424  569  424]\n",
      " [ 506  426  505  425]\n",
      " [ 600  427  600  427]\n",
      " [ 571  431  572  432]\n",
      " [ 712  432  709  432]\n",
      " [ 506  434  503  436]\n",
      " [ 565  435  569  436]\n",
      " [ 601  440  603  441]\n",
      " [ 708  436  709  432]\n",
      " [ 459  439  459  438]\n",
      " [ 591  437  591  436]\n",
      " [ 567  446  567  446]\n",
      " [ 682  439  682  439]\n",
      " [ 400  445  400  447]\n",
      " [ 461  445  463  448]\n",
      " [ 488  449  486  447]\n",
      " [ 463  450  463  448]\n",
      " [ 217  459  216  459]\n",
      " [ 588  460  592  459]\n",
      " [ 253  460  254  458]\n",
      " [ 553  460  549  457]\n",
      " [  57  467   57  467]\n",
      " [ 527  470  527  469]\n",
      " [ 531  469  529  469]\n",
      " [ 583  474  583  474]\n",
      " [ 526  475  526  475]\n",
      " [ 529  479  529  479]\n",
      " [ 482  481  481  480]\n",
      " [ 537  486  537  486]\n",
      " [  34  492   33  492]\n",
      " [ 561  495  559  493]\n",
      " [ 567  501  567  501]\n",
      " [ 552  503  550  502]\n",
      " [ 585  501  582  501]\n",
      " [ 559  504  559  504]\n",
      " [ 557  510  557  510]\n",
      " [ 522  518  521  518]\n",
      " [ 588  529  587  529]\n",
      " [ 583  529  587  530]\n",
      " [ 507  534  505  533]\n",
      " [ 527  536  526  535]\n",
      " [ 543  585  543  585]\n",
      " [ 549  586  545  584]\n",
      " [ 715  586  716  585]\n",
      " [ 690  589  690  586]\n",
      " [ 472  600  471  602]\n",
      " [ 663  614  659  613]\n",
      " [ 679  620  679  620]\n",
      " [ 543  626  541  626]\n",
      " [ 633  629  633  628]\n",
      " [ 588  634  588  632]\n",
      " [ 666  634  664  633]\n",
      " [ 640  637  639  638]\n",
      " [ 678  639  677  635]\n",
      " [ 664  645  664  645]\n",
      " [ 650  652  650  652]\n",
      " [ 655  652  658  651]\n",
      " [ 487  671  487  671]\n",
      " [  66  676   66  676]\n",
      " [  88  677   87  676]\n",
      " [  31  685   31  685]\n",
      " [ 637  694  637  693]\n",
      " [ 648  696  645  693]\n",
      " [ 560  701  562  702]\n",
      " [ 591  699  591  701]\n",
      " [ 657  701  659  700]\n",
      " [ 540  703  540  703]\n",
      " [ 567  709  567  709]\n",
      " [ 573  709  573  709]\n",
      " [ 599  716  598  715]\n",
      " [ 669  766  673  762]]\n"
     ]
    }
   ],
   "source": [
    "# Now draw them\n",
    "res = np.hstack((centroids,corners))\n",
    "res = np.int0(res)\n",
    "print(res)"
   ]
  },
  {
   "cell_type": "code",
   "execution_count": 60,
   "metadata": {},
   "outputs": [
    {
     "data": {
      "text/plain": [
       "True"
      ]
     },
     "execution_count": 60,
     "metadata": {},
     "output_type": "execute_result"
    }
   ],
   "source": [
    "img[res[:,1],res[:,0]]=[0,0,255]\n",
    "img[res[:,3],res[:,2]] = [0,255,0]\n",
    "cv2.imwrite('subpixel5.png',img)"
   ]
  },
  {
   "cell_type": "code",
   "execution_count": 47,
   "metadata": {},
   "outputs": [],
   "source": [
    "cv2.imshow('dst', img)\n",
    "cv2.waitKey(0)\n",
    "cv2.destroyAllWindows()"
   ]
  },
  {
   "cell_type": "code",
   "execution_count": 61,
   "metadata": {},
   "outputs": [
    {
     "data": {
      "text/plain": [
       "array([383, 111, 109, 125, 126, 129, 133, 136, 138, 155, 156, 157, 161,\n",
       "       164, 165, 169, 172, 171, 175, 177, 173, 187, 186, 197, 205, 212,\n",
       "       212, 218, 217, 224, 227, 234, 235, 244, 241, 243, 246, 246, 247,\n",
       "       249, 248, 249, 250, 247, 256, 264, 266, 272, 293, 312, 325, 324,\n",
       "       329, 344, 348, 351, 355, 348, 354, 354, 353, 365, 360, 361, 361,\n",
       "       365, 367, 371, 375, 376, 377, 377, 379, 414, 385, 391, 386, 387,\n",
       "       392, 395, 400, 402, 405, 401, 406, 402, 410, 407, 412, 414, 414,\n",
       "       419, 423, 423, 424, 425, 427, 432, 432, 436, 436, 441, 432, 438,\n",
       "       436, 446, 439, 447, 448, 447, 448, 459, 459, 458, 457, 467, 469,\n",
       "       469, 474, 475, 479, 480, 486, 492, 493, 501, 502, 501, 504, 510,\n",
       "       518, 529, 530, 533, 535, 585, 584, 585, 586, 602, 613, 620, 626,\n",
       "       628, 632, 633, 638, 635, 645, 652, 651, 671, 676, 676, 685, 693,\n",
       "       693, 702, 701, 700, 703, 709, 709, 715, 762], dtype=int64)"
      ]
     },
     "execution_count": 61,
     "metadata": {},
     "output_type": "execute_result"
    }
   ],
   "source": [
    "res[:,-1]"
   ]
  },
  {
   "cell_type": "code",
   "execution_count": 62,
   "metadata": {},
   "outputs": [],
   "source": [
    "for i in range(res.shape[0]):\n",
    "    cv2.circle(img,(res[i,0],res[i,1]),2,(0,0,255),-1)\n",
    "    cv2.circle(img,(res[i,2],res[i,3]),3,(0,255,0),-1)"
   ]
  },
  {
   "cell_type": "code",
   "execution_count": 63,
   "metadata": {},
   "outputs": [],
   "source": [
    "cv2.imshow('dst', img)\n",
    "cv2.waitKey(0)\n",
    "cv2.destroyAllWindows()"
   ]
  },
  {
   "cell_type": "code",
   "execution_count": null,
   "metadata": {},
   "outputs": [],
   "source": []
  }
 ],
 "metadata": {
  "kernelspec": {
   "display_name": "Python 3",
   "language": "python",
   "name": "python3"
  },
  "language_info": {
   "codemirror_mode": {
    "name": "ipython",
    "version": 3
   },
   "file_extension": ".py",
   "mimetype": "text/x-python",
   "name": "python",
   "nbconvert_exporter": "python",
   "pygments_lexer": "ipython3",
   "version": "3.8.5"
  }
 },
 "nbformat": 4,
 "nbformat_minor": 4
}
