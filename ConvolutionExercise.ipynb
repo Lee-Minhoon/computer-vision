{
 "cells": [
  {
   "cell_type": "code",
   "execution_count": 1,
   "metadata": {},
   "outputs": [],
   "source": [
    "import cv2\n",
    "import numpy as np\n",
    "import os"
   ]
  },
  {
   "cell_type": "code",
   "execution_count": 2,
   "metadata": {},
   "outputs": [],
   "source": [
    "resource_path = os.getcwd() + '/resource/'\n",
    "img = cv2.imread(resource_path + 'dog.jpg',0)\n",
    "cv2.imshow('image',img)\n",
    "k = cv2.waitKey(0)\n",
    "cv2.destroyAllWindows()"
   ]
  },
  {
   "cell_type": "code",
   "execution_count": 3,
   "metadata": {},
   "outputs": [
    {
     "name": "stdout",
     "output_type": "stream",
     "text": [
      "[[165 165 165 ...  52  52  52]\n",
      " [165 165 165 ...  52  52  52]\n",
      " [163 163 163 ...  52  52  52]\n",
      " ...\n",
      " [ 93  94  96 ... 110 109 109]\n",
      " [ 94  95  97 ... 110 109 109]\n",
      " [ 95  96  98 ... 110 109 109]]\n"
     ]
    }
   ],
   "source": [
    "print(img)"
   ]
  },
  {
   "cell_type": "code",
   "execution_count": 4,
   "metadata": {},
   "outputs": [],
   "source": [
    "kernel = np.zeros((3,3),dtype=np.uint8)"
   ]
  },
  {
   "cell_type": "code",
   "execution_count": 5,
   "metadata": {},
   "outputs": [],
   "source": [
    "img2 = img[:]"
   ]
  },
  {
   "cell_type": "code",
   "execution_count": 6,
   "metadata": {},
   "outputs": [
    {
     "name": "stdout",
     "output_type": "stream",
     "text": [
      "[[0 0 0]\n",
      " [0 0 0]\n",
      " [0 0 0]]\n",
      "[[165 165 165 ...  52  52  52]\n",
      " [165 165 165 ...  52  52  52]\n",
      " [163 163 163 ...  52  52  52]\n",
      " ...\n",
      " [ 93  94  96 ... 110 109 109]\n",
      " [ 94  95  97 ... 110 109 109]\n",
      " [ 95  96  98 ... 110 109 109]]\n",
      "[[  0 165 165 ...  52  52  52]\n",
      " [165 165 165 ...  52  52  52]\n",
      " [163 163 163 ...  52  52  52]\n",
      " ...\n",
      " [ 93  94  96 ... 110 109 109]\n",
      " [ 94  95  97 ... 110 109 109]\n",
      " [ 95  96  98 ... 110 109 109]]\n",
      "[[  0 165 165 ...  52  52  52]\n",
      " [165 165 165 ...  52  52  52]\n",
      " [163 163 163 ...  52  52  52]\n",
      " ...\n",
      " [ 93  94  96 ... 110 109 109]\n",
      " [ 94  95  97 ... 110 109 109]\n",
      " [ 95  96  98 ... 110 109 109]]\n"
     ]
    }
   ],
   "source": [
    "print(kernel)\n",
    "print(img)\n",
    "img2[0,0] = 0\n",
    "print(img)\n",
    "print(img2)"
   ]
  },
  {
   "cell_type": "code",
   "execution_count": 7,
   "metadata": {},
   "outputs": [],
   "source": [
    "## 중심으로 모든 값을 곱해서 더한게 합성곱이다."
   ]
  },
  {
   "cell_type": "code",
   "execution_count": 8,
   "metadata": {},
   "outputs": [
    {
     "name": "stdout",
     "output_type": "stream",
     "text": [
      "[[  0 165 165 ...  52  52  52]\n",
      " [165 165 165 ...  52  52  52]\n",
      " [163 163 163 ...  52  52  52]\n",
      " ...\n",
      " [ 93  94  96 ... 110 109 109]\n",
      " [ 94  95  97 ... 110 109 109]\n",
      " [ 95  96  98 ... 110 109 109]]\n"
     ]
    }
   ],
   "source": [
    "print(img)"
   ]
  },
  {
   "cell_type": "code",
   "execution_count": 9,
   "metadata": {},
   "outputs": [],
   "source": [
    "w,h = img.shape\n",
    "kw,kh = kernel.shape"
   ]
  },
  {
   "cell_type": "code",
   "execution_count": 10,
   "metadata": {},
   "outputs": [
    {
     "name": "stdout",
     "output_type": "stream",
     "text": [
      "9\n"
     ]
    }
   ],
   "source": [
    "print( kw * kh)"
   ]
  },
  {
   "cell_type": "code",
   "execution_count": 11,
   "metadata": {},
   "outputs": [],
   "source": [
    "kernel = np.zeros((3,3), dtype=np.int8)\n",
    "for i in range(kw):\n",
    "    for j in range(kh):\n",
    "        kernel[i,j] = 1\n",
    "        \n",
    "kernel[1,1] = 4"
   ]
  },
  {
   "cell_type": "code",
   "execution_count": 12,
   "metadata": {},
   "outputs": [
    {
     "name": "stdout",
     "output_type": "stream",
     "text": [
      "[[1 1 1]\n",
      " [1 4 1]\n",
      " [1 1 1]]\n"
     ]
    }
   ],
   "source": [
    "print(kernel)"
   ]
  },
  {
   "cell_type": "code",
   "execution_count": 13,
   "metadata": {},
   "outputs": [],
   "source": [
    "for i in range(w-1):\n",
    "    for j in range(h-1):\n",
    "        if not(i == 0 or j == 0 or i == w or j == h):\n",
    "            sum = 0\n",
    "            for z in range(kw):\n",
    "                for k in range(kh):\n",
    "                    sum += img[i-1+z, j-1+k] * kernel[z,k]\n",
    "            temp = int(sum / (kw * kh))\n",
    "            if temp >= 255:\n",
    "                img2[i, j] = 255\n",
    "            else:\n",
    "                img2[i, j] = temp"
   ]
  },
  {
   "cell_type": "code",
   "execution_count": 14,
   "metadata": {
    "scrolled": true
   },
   "outputs": [
    {
     "name": "stdout",
     "output_type": "stream",
     "text": [
      "[[  0 165 165 ...  52  52  52]\n",
      " [165 201 223 ...  71  71  52]\n",
      " [163 228 242 ...  78  76  52]\n",
      " ...\n",
      " [ 93 136 148 ... 175 166 109]\n",
      " [ 94 137 150 ... 174 166 109]\n",
      " [ 95  96  98 ... 110 109 109]]\n"
     ]
    }
   ],
   "source": [
    "print(img2)"
   ]
  },
  {
   "cell_type": "code",
   "execution_count": 16,
   "metadata": {},
   "outputs": [],
   "source": [
    "cv2.imshow('image',img)\n",
    "cv2.imshow('image2',img2)\n",
    "k = cv2.waitKey(0)\n",
    "cv2.destroyAllWindows()"
   ]
  },
  {
   "cell_type": "code",
   "execution_count": 16,
   "metadata": {
    "scrolled": true
   },
   "outputs": [
    {
     "name": "stdout",
     "output_type": "stream",
     "text": [
      "404\n",
      "1 1\n"
     ]
    }
   ],
   "source": [
    "for i in range(2):\n",
    "    for j in range(2):\n",
    "        if not(i == 0 or j == 0 or i == w or j == h):\n",
    "            print(int(img[i-1,j-1] * kernel[0,0] + img[i-1,j] * kernel[0,1] + img[i-1,j+1] * kernel[0,2] +\n",
    "            img[i,j-1] * kernel[1,0] + img[i,j] * kernel[1,1] + img[i,j+1] * kernel[1,2] +\n",
    "            img[i+1,j-1] * kernel[2,0] + img[i+1,j] * kernel[2,1] + img[i+1,j+1] * kernel[2,2]))\n",
    "            print(i,j)\n"
   ]
  },
  {
   "cell_type": "code",
   "execution_count": 17,
   "metadata": {},
   "outputs": [
    {
     "name": "stdout",
     "output_type": "stream",
     "text": [
      "33\n"
     ]
    }
   ],
   "source": [
    "print(img[2,2] * kernel[2,2])"
   ]
  },
  {
   "cell_type": "code",
   "execution_count": 61,
   "metadata": {},
   "outputs": [],
   "source": [
    "inp = np.zeros((5,5),dtype=np.int8)"
   ]
  },
  {
   "cell_type": "code",
   "execution_count": 62,
   "metadata": {},
   "outputs": [],
   "source": [
    "inp2 = [1, 2, 1, 4, 5, 2, 1, 3, 4, 2, 3, 2, 5, 1, 2, 5, 2, 1, 1, 4, 6, 3, 3, 2, 5]"
   ]
  },
  {
   "cell_type": "code",
   "execution_count": 66,
   "metadata": {},
   "outputs": [],
   "source": [
    "k = 0"
   ]
  },
  {
   "cell_type": "code",
   "execution_count": 63,
   "metadata": {},
   "outputs": [],
   "source": [
    "inp3 = np.zeros((5,5),dtype=np.int8)"
   ]
  },
  {
   "cell_type": "code",
   "execution_count": 65,
   "metadata": {},
   "outputs": [],
   "source": [
    "for i in range(5):\n",
    "    for j in range(5):\n",
    "        inp3[i][j] = inp2[k]\n",
    "        k = k + 1"
   ]
  },
  {
   "cell_type": "code",
   "execution_count": 67,
   "metadata": {},
   "outputs": [],
   "source": [
    "for i in range(5):\n",
    "    for j in range(5):\n",
    "        inp[i][j] = inp2[k]\n",
    "        k = k + 1"
   ]
  },
  {
   "cell_type": "code",
   "execution_count": 68,
   "metadata": {},
   "outputs": [
    {
     "data": {
      "text/plain": [
       "array([[1, 2, 1, 4, 5],\n",
       "       [2, 1, 3, 4, 2],\n",
       "       [3, 2, 5, 1, 2],\n",
       "       [5, 2, 1, 1, 4],\n",
       "       [6, 3, 3, 2, 5]], dtype=int8)"
      ]
     },
     "execution_count": 68,
     "metadata": {},
     "output_type": "execute_result"
    }
   ],
   "source": [
    "inp"
   ]
  },
  {
   "cell_type": "code",
   "execution_count": 69,
   "metadata": {},
   "outputs": [
    {
     "data": {
      "text/plain": [
       "array([[1, 2, 1, 4, 5],\n",
       "       [2, 1, 3, 4, 2],\n",
       "       [3, 2, 5, 1, 2],\n",
       "       [5, 2, 1, 1, 4],\n",
       "       [6, 3, 3, 2, 5]], dtype=int8)"
      ]
     },
     "execution_count": 69,
     "metadata": {},
     "output_type": "execute_result"
    }
   ],
   "source": [
    "inp3"
   ]
  },
  {
   "cell_type": "code",
   "execution_count": null,
   "metadata": {},
   "outputs": [],
   "source": []
  },
  {
   "cell_type": "code",
   "execution_count": 70,
   "metadata": {},
   "outputs": [],
   "source": [
    "kernel = np.zeros((3,3),dtype=np.int8)"
   ]
  },
  {
   "cell_type": "code",
   "execution_count": 71,
   "metadata": {},
   "outputs": [
    {
     "data": {
      "text/plain": [
       "array([[0, 0, 0],\n",
       "       [0, 0, 0],\n",
       "       [0, 0, 0]], dtype=int8)"
      ]
     },
     "execution_count": 71,
     "metadata": {},
     "output_type": "execute_result"
    }
   ],
   "source": [
    "kernel"
   ]
  },
  {
   "cell_type": "code",
   "execution_count": 72,
   "metadata": {},
   "outputs": [],
   "source": [
    "ab = [0, 1, 0, 1, -4, 1, 0, 1, 0]"
   ]
  },
  {
   "cell_type": "code",
   "execution_count": 73,
   "metadata": {},
   "outputs": [],
   "source": [
    "k = 0"
   ]
  },
  {
   "cell_type": "code",
   "execution_count": 74,
   "metadata": {},
   "outputs": [],
   "source": [
    "for i in range(3):\n",
    "    for j in range(3):\n",
    "        kernel[i][j] = ab[k]\n",
    "        k = k + 1"
   ]
  },
  {
   "cell_type": "code",
   "execution_count": 75,
   "metadata": {},
   "outputs": [
    {
     "data": {
      "text/plain": [
       "array([[ 0,  1,  0],\n",
       "       [ 1, -4,  1],\n",
       "       [ 0,  1,  0]], dtype=int8)"
      ]
     },
     "execution_count": 75,
     "metadata": {},
     "output_type": "execute_result"
    }
   ],
   "source": [
    "kernel"
   ]
  },
  {
   "cell_type": "code",
   "execution_count": 76,
   "metadata": {},
   "outputs": [],
   "source": [
    "for i in range(5):\n",
    "    for j in range(5):\n",
    "        if(i == 0 or j == 0 or i == 4 or j == 4):\n",
    "            inp3[i, j] = 0\n",
    "        else:\n",
    "            sum = 0\n",
    "            for z in range(3):\n",
    "                for k in range(3):\n",
    "                    sum += inp[i-1+z, j-1+k] * kernel[z,k]\n",
    "            temp = sum\n",
    "            if temp >= 255:\n",
    "                inp3[i, j] = 255\n",
    "            else:\n",
    "                inp3[i, j] = temp"
   ]
  },
  {
   "cell_type": "code",
   "execution_count": 77,
   "metadata": {},
   "outputs": [
    {
     "data": {
      "text/plain": [
       "array([[  0,   0,   0,   0,   0],\n",
       "       [  0,   5,  -1,  -6,   0],\n",
       "       [  0,   3, -13,   8,   0],\n",
       "       [  0,   3,   7,   4,   0],\n",
       "       [  0,   0,   0,   0,   0]], dtype=int8)"
      ]
     },
     "execution_count": 77,
     "metadata": {},
     "output_type": "execute_result"
    }
   ],
   "source": [
    "inp3"
   ]
  },
  {
   "cell_type": "code",
   "execution_count": null,
   "metadata": {},
   "outputs": [],
   "source": []
  }
 ],
 "metadata": {
  "kernelspec": {
   "display_name": "Python 3",
   "language": "python",
   "name": "python3"
  },
  "language_info": {
   "codemirror_mode": {
    "name": "ipython",
    "version": 3
   },
   "file_extension": ".py",
   "mimetype": "text/x-python",
   "name": "python",
   "nbconvert_exporter": "python",
   "pygments_lexer": "ipython3",
   "version": "3.8.5"
  }
 },
 "nbformat": 4,
 "nbformat_minor": 4
}
